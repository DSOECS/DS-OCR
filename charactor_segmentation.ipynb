{
 "cells": [
  {
   "cell_type": "code",
   "execution_count": 1,
   "metadata": {},
   "outputs": [],
   "source": [
    "import cv2\n",
    "import numpy as np\n",
    "import matplotlib.pyplot as plt"
   ]
  },
  {
   "cell_type": "code",
   "execution_count": null,
   "metadata": {},
   "outputs": [],
   "source": [
    "img = cv2.imread('./test_image/test8.jpg')\n",
    "img = cv2.cvtColor(img, cv2.COLOR_BGR2RGB)\n",
    "\n",
    "h, w, c = img.shape\n",
    "\n",
    "if w > 1000:\n",
    "    new_w = 1000\n",
    "    ar = w/h\n",
    "    new_h = int(new_w/ar)\n",
    "    img = cv2.resize(img, (new_w, new_h), interpolation = cv2.INTER_AREA)\n",
    "plt.imshow(img)"
   ]
  },
  {
   "cell_type": "code",
   "execution_count": null,
   "metadata": {},
   "outputs": [],
   "source": [
    "def thresholding(image):\n",
    "    img_gray = cv2.cvtColor(image,cv2.COLOR_BGR2GRAY)\n",
    "    ret,thresh = cv2.threshold(img_gray,80,255,cv2.THRESH_BINARY_INV)\n",
    "    plt.imshow(thresh, cmap='gray')\n",
    "    return thresh\n",
    "\n",
    "thresh_img = thresholding(img)"
   ]
  },
  {
   "cell_type": "code",
   "execution_count": null,
   "metadata": {},
   "outputs": [],
   "source": [
    "#dilation\n",
    "kernel = np.ones((3,85), np.uint8)\n",
    "dilated = cv2.dilate(thresh_img, kernel, iterations = 1)\n",
    "plt.imshow(dilated, cmap='gray');"
   ]
  },
  {
   "cell_type": "code",
   "execution_count": null,
   "metadata": {},
   "outputs": [],
   "source": [
    "(contours, heirarchy) = cv2.findContours(dilated.copy(), cv2.RETR_EXTERNAL, cv2.CHAIN_APPROX_NONE)\n",
    "sorted_contours_lines = sorted(contours, key = lambda ctr : cv2.boundingRect(ctr)[1]) # (x, y, w, h)"
   ]
  },
  {
   "cell_type": "code",
   "execution_count": null,
   "metadata": {
    "scrolled": true
   },
   "outputs": [],
   "source": [
    "img2 = img.copy()\n",
    "cropped_images = []\n",
    "\n",
    "for ctr in sorted_contours_lines:\n",
    "    x, y, w, h = cv2.boundingRect(ctr)\n",
    "    cv2.rectangle(img2, (x, y), (x+w, y+h), (40, 100, 250), 2)\n",
    "    cropped_region = img2[y:y+h, x:x+w] \n",
    "    cropped_images.append(cropped_region)\n",
    "\n",
    "plt.imshow(cv2.cvtColor(img2, cv2.COLOR_BGR2GRAY), cmap='gray') \n",
    "plt.show()\n",
    "cv2.imshow(f'Cropped Image {1}', cv2.cvtColor(cropped_images[13], cv2.COLOR_BGR2GRAY))\n",
    "\n",
    "cv2.waitKey(0)\n",
    "cv2.destroyAllWindows()"
   ]
  },
  {
   "cell_type": "code",
   "execution_count": null,
   "metadata": {},
   "outputs": [],
   "source": [
    "\n",
    "gray_img = cv2.cvtColor(cropped_images[13], cv2.COLOR_BGR2GRAY)\n",
    "ones_array = np.where(gray_img == 255, 1, 0)\n",
    "\n",
    "ones_img = np.uint8(ones_array * 255)\n",
    "\n",
    "\n",
    "cv2.waitKey(0)\n",
    "cv2.destroyAllWindows()"
   ]
  },
  {
   "cell_type": "code",
   "execution_count": null,
   "metadata": {},
   "outputs": [],
   "source": [
    "from scipy.signal import find_peaks\n",
    "\n",
    "vertical_hist = np.sum(ones_img, axis=0, keepdims=True)\n",
    "peaks, _ = find_peaks(vertical_hist[0], height=3500)\n",
    "\n",
    "\n",
    "# แสดงกราฟ\n",
    "plt.plot(vertical_hist[0])\n",
    "plt.plot(peaks, vertical_hist[0][peaks], 'x', color='red')\n",
    "plt.title('Vertical Histogram Projection with Peaks')\n",
    "plt.xlabel('Column')\n",
    "plt.ylabel('Number of White Pixels')\n",
    "plt.show()\n",
    "\n"
   ]
  },
  {
   "cell_type": "code",
   "execution_count": null,
   "metadata": {},
   "outputs": [],
   "source": [
    "print(peaks)"
   ]
  },
  {
   "cell_type": "code",
   "execution_count": null,
   "metadata": {},
   "outputs": [],
   "source": [
    "def character_segmentation(word_segment, character_threshold=3500, character_width=10, character_gap=5):\n",
    "    vertical_projection = np.sum(word_segment, axis=0)\n",
    "    character_peaks, _ = find_peaks(vertical_projection, height=character_threshold)\n",
    "\n",
    "    segmented_characters = []\n",
    "\n",
    "    for peak_column in character_peaks:\n",
    "        middle_column = peak_column\n",
    "        start_column = max(0, middle_column - character_width // 2 - character_gap)\n",
    "        end_column = min(word_segment.shape[1], middle_column + character_width // 2)\n",
    "        character_segment = word_segment[:, start_column:end_column]\n",
    "        segmented_characters.append(character_segment)\n",
    "\n",
    "    return segmented_characters\n",
    "\n",
    "\n"
   ]
  },
  {
   "cell_type": "code",
   "execution_count": null,
   "metadata": {},
   "outputs": [],
   "source": [
    "segmented_characters = character_segmentation(ones_img, character_threshold=50)\n",
    "\n",
    "characters_list = []\n",
    "\n",
    "for i, char_segment in enumerate(segmented_characters):\n",
    "    characters_list.append(char_segment)\n",
    "\n",
    "for i, char_segment in enumerate(characters_list):\n",
    "    print(f'Character {i + 1}:')\n",
    "    print(char_segment)\n",
    "    print('\\n')\n",
    "\n",
    "cv2.imshow('Character 1', characters_list[3])\n",
    "\n",
    "cv2.waitKey(0)\n",
    "\n",
    "cv2.destroyAllWindows()\n"
   ]
  },
  {
   "cell_type": "code",
   "execution_count": null,
   "metadata": {},
   "outputs": [],
   "source": [
    "\n",
    "def vowel_segmentation(word_segment, character_threshold=3500, character_height=10, character_gap=5):\n",
    "    horizontal_projection = np.sum(word_segment, axis=1)\n",
    "    character_peaks, _ = find_peaks(horizontal_projection, height=character_threshold)\n",
    "\n",
    "    segmented_characters = []\n",
    "\n",
    "    for peak_row in character_peaks:\n",
    "        middle_row = peak_row\n",
    "        start_row = max(0, middle_row - character_height // 2 - character_gap)\n",
    "        end_row = min(word_segment.shape[0], middle_row + character_height // 2)\n",
    "        character_segment = word_segment[start_row:end_row, :]\n",
    "        segmented_characters.append(character_segment)\n",
    "\n",
    "    return segmented_characters\n",
    "\n",
    "\n",
    "def char_segmentation(image, character_threshold=3500, character_height=10, character_gap=5):\n",
    "    horizontal_projection = np.sum(image, axis=1)\n",
    "    character_peaks, _ = find_peaks(horizontal_projection, height=character_threshold)\n",
    "\n",
    "    segmented_characters = []\n",
    "\n",
    "    for i in range(len(character_peaks) - 1):\n",
    "        start_row = character_peaks[i]\n",
    "        end_row = character_peaks[i + 1]\n",
    "        character_segment = image[start_row:end_row, :]\n",
    "        segmented_characters.append(character_segment)\n",
    "    segmented_characters.append(image[character_peaks[-1]:, :])\n",
    "\n",
    "    return segmented_characters"
   ]
  },
  {
   "cell_type": "code",
   "execution_count": null,
   "metadata": {},
   "outputs": [],
   "source": [
    "vo = characters_list[3]\n",
    "segmented_characters = char_segmentation(characters_list[3])\n",
    "\n",
    "for i, char_segment in enumerate(segmented_characters):\n",
    "    cv2.imshow(f'Character {i + 1}', char_segment)\n",
    "\n",
    "\n",
    "cv2.waitKey(0)\n",
    "cv2.destroyAllWindows()"
   ]
  },
  {
   "cell_type": "code",
   "execution_count": null,
   "metadata": {},
   "outputs": [],
   "source": [
    "segmented_vowel = vowel_segmentation(vo)\n",
    "\n",
    "for i, char_segment in enumerate(segmented_vowel):\n",
    "    cv2.imshow(f'Character {i + 1}', char_segment)\n",
    "\n",
    "\n",
    "cv2.waitKey(0)\n",
    "cv2.destroyAllWindows()"
   ]
  }
 ],
 "metadata": {
  "kernelspec": {
   "display_name": "Python 3",
   "language": "python",
   "name": "python3"
  },
  "language_info": {
   "codemirror_mode": {
    "name": "ipython",
    "version": 3
   },
   "file_extension": ".py",
   "mimetype": "text/x-python",
   "name": "python",
   "nbconvert_exporter": "python",
   "pygments_lexer": "ipython3",
   "version": "3.10.0"
  }
 },
 "nbformat": 4,
 "nbformat_minor": 2
}
